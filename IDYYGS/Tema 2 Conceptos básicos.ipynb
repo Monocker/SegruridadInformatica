{
 "cells": [
  {
   "cell_type": "markdown",
   "id": "eb0b5d69",
   "metadata": {},
   "source": [
    "# 1. Variables y tipo de datos"
   ]
  },
  {
   "cell_type": "code",
   "execution_count": null,
   "id": "4ba7bbc3",
   "metadata": {},
   "outputs": [],
   "source": []
  },
  {
   "cell_type": "code",
   "execution_count": 4,
   "id": "1273d321",
   "metadata": {},
   "outputs": [
    {
     "name": "stdout",
     "output_type": "stream",
     "text": [
      "Hola soy Luis, tengo 33 años y mido 1.76\n",
      "<class 'str'>\n",
      "<class 'str'>\n",
      "<class 'str'>\n",
      "<class 'str'>\n",
      "<class 'int'>\n",
      "<class 'float'>\n",
      "<class 'bool'>\n",
      "<class 'bool'>\n"
     ]
    }
   ],
   "source": [
    "# Tipo de datos\n",
    "\n",
    "nombre = 'Luis'\n",
    "ap_paterno = \"Rejón\"\n",
    "ap_materno = \"\"\"Villafaña\"\"\"\n",
    "edad = 33\n",
    "altura = 1.76\n",
    "es_estudiante = False\n",
    "es_docente = True\n",
    "\n",
    "print(F\"Hola soy {nombre}, tengo {edad} años y mido {altura}\")\n",
    "\n",
    "print (type(nombre))\n",
    "print (type (ap_paterno))\n",
    "print (type (ap_materno))\n",
    "print (type (ap_paterno))\n",
    "print (type (edad))\n",
    "print (type (altura))\n",
    "print (type (es_estudiante))\n",
    "print (type (es_docente))"
   ]
  },
  {
   "cell_type": "markdown",
   "id": "201af514",
   "metadata": {},
   "source": [
    "\n",
    "#  2. Operadores"
   ]
  },
  {
   "cell_type": "markdown",
   "id": "de3b3f0e",
   "metadata": {},
   "source": [
    "\n",
    "# 3. Entrasas y salidas estpandar"
   ]
  },
  {
   "cell_type": "code",
   "execution_count": null,
   "id": "0a820c24",
   "metadata": {},
   "outputs": [],
   "source": []
  },
  {
   "cell_type": "code",
   "execution_count": 5,
   "id": "c693ba7b",
   "metadata": {},
   "outputs": [],
   "source": [
    "#Crear un sistema que ingrese los siguientes datos"
   ]
  },
  {
   "cell_type": "code",
   "execution_count": null,
   "id": "735d54e8",
   "metadata": {},
   "outputs": [],
   "source": [
    "nombre = 'Luis'\n",
    "ap_paterno = \"Rejón\"\n",
    "ap_materno = \"\"\"Villafaña\"\"\"\n",
    "edad = 33\n",
    "altura = 1.76\n",
    "es_estudiante = False\n",
    "es_docente = True"
   ]
  },
  {
   "cell_type": "code",
   "execution_count": null,
   "id": "a6eb6e5f",
   "metadata": {},
   "outputs": [],
   "source": [
    "nombre = input(\"Escribe tu nombre:\")\n",
    "ap_paterno = input(\"Escribe tu apellido paterno:\")\n",
    "ap_materno = input(\"Escribe tu apellido materno:\")\n",
    "edad = int(input(\"Escribe tu edad:\"))\n",
    "altura = float(input(\"Escribe tu altura:\"))\n",
    "es_estudiante = True\n",
    "es_docente = True\n",
    "profesion = 0\n",
    "\n",
    "while True:\n",
    "    profesion = int(input(\"¿Qué profesión tienes?\\n1. Estudiante\\n2. Profesor: \"))\n",
    "    if profesion == 1:\n",
    "        es_estudiante = True\n",
    "        es_docente = False\n",
    "        print(f\"Tu nombre es {nombre} {ap_paterno} {ap_materno}, tu edad es {edad}, mides {altura}, eres estudiante: {es_estudiante}, docente: {es_docente}\")\n",
    "        break\n",
    "    elif profesion == 2:\n",
    "        es_estudiante = False\n",
    "        es_docente = True\n",
    "        print(f\"Tu nombre es {nombre} {ap_paterno} {ap_materno}, tu edad es {edad}, mides {altura}, eres estudiante: {es_estudiante}, docente: {es_docente}\")\n",
    "        break\n",
    "    else:\n",
    "        print(\"Opción inválida. Por favor, selecciona 1 o 2 como profesión.\")\n",
    "\n",
    "\n"
   ]
  },
  {
   "cell_type": "code",
   "execution_count": null,
   "id": "48d7ae63",
   "metadata": {},
   "outputs": [],
   "source": [
    "#meter codigo de profesor"
   ]
  },
  {
   "cell_type": "code",
   "execution_count": null,
   "id": "93835c99",
   "metadata": {},
   "outputs": [],
   "source": []
  },
  {
   "cell_type": "code",
   "execution_count": null,
   "id": "4a5a4489",
   "metadata": {},
   "outputs": [],
   "source": [
    "\n",
    "\n"
   ]
  }
 ],
 "metadata": {
  "kernelspec": {
   "display_name": "Python 3 (ipykernel)",
   "language": "python",
   "name": "python3"
  },
  "language_info": {
   "codemirror_mode": {
    "name": "ipython",
    "version": 3
   },
   "file_extension": ".py",
   "mimetype": "text/x-python",
   "name": "python",
   "nbconvert_exporter": "python",
   "pygments_lexer": "ipython3",
   "version": "3.11.4"
  }
 },
 "nbformat": 4,
 "nbformat_minor": 5
}
