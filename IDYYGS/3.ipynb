{
 "cells": [
  {
   "cell_type": "markdown",
   "id": "26ec3919",
   "metadata": {},
   "source": [
    "# Estructuras de control(If, ELIF y ELSE)"
   ]
  },
  {
   "cell_type": "code",
   "execution_count": null,
   "id": "bbdaf41f",
   "metadata": {},
   "outputs": [],
   "source": [
    "#Identación == 4Espacios\n",
    "a= 10\n",
    "b=5\n",
    "if a>b:\n",
    "    print(\"Hola Mundo\")\n",
    "    \n",
    "else: \n",
    "    print(\"Cómo estás\")\n",
    "    "
   ]
  },
  {
   "cell_type": "code",
   "execution_count": null,
   "id": "4a9ab076",
   "metadata": {
    "collapsed": true
   },
   "outputs": [],
   "source": [
    "#For"
   ]
  },
  {
   "cell_type": "code",
   "execution_count": null,
   "id": "54e8734c",
   "metadata": {},
   "outputs": [],
   "source": [
    "#tipico\n",
    "\n",
    "for (inicio;final;avance)\n",
    "{\n",
    "    codigo\n",
    "}"
   ]
  },
  {
   "cell_type": "code",
   "execution_count": 2,
   "id": "056f9b22",
   "metadata": {},
   "outputs": [
    {
     "data": {
      "text/plain": [
       "1"
      ]
     },
     "execution_count": 2,
     "metadata": {},
     "output_type": "execute_result"
    }
   ],
   "source": [
    "numeros = [1,2,3,4,5,6,7,8,9,]\n",
    "\n",
    "num = iter(numeros)\n",
    "\n",
    "next(num)"
   ]
  },
  {
   "cell_type": "code",
   "execution_count": null,
   "id": "fcb0713d",
   "metadata": {},
   "outputs": [],
   "source": [
    "for k in valores #diccionarios:\n"
   ]
  },
  {
   "cell_type": "code",
   "execution_count": 71,
   "id": "2417fbe9",
   "metadata": {
    "scrolled": true
   },
   "outputs": [
    {
     "name": "stdout",
     "output_type": "stream",
     "text": [
      "Ingrese el inicio de la tabla: 4\n",
      "Ingrese el final de l atabla: 5\n",
      "Ingrese el inicio multiplicar: 2\n",
      "Ingrese final amultipliacar: 6\n",
      "Tabla de multiplicar de 4 x 2 :\n",
      "4  x 4 = 8\n",
      "4  x 5 = 12\n",
      "Tabla de multiplicar de 4 x 4 :\n",
      "4  x 4 = 16\n",
      "4  x 5 = 20\n",
      "Tabla de multiplicar de 4 x 6 :\n",
      "4  x 4 = 24\n",
      "4  x 5 = 28\n",
      "Tabla de multiplicar de 4 x 8 :\n",
      "4  x 4 = 32\n",
      "4  x 5 = 36\n",
      "Tabla de multiplicar de 4 x 10 :\n",
      "4  x 4 = 40\n",
      "4  x 5 = 44\n"
     ]
    }
   ],
   "source": [
    "#tabala infinita\n",
    "\n",
    "#el usuario va a difinir el multiclando y el multiplicador y el tamaño de la tabla\n",
    "\n",
    "inicio = int(input(\"Ingrese el inicio de la tabla: \"))\n",
    "final = int(input(\"Ingrese el final de l atabla: \"))\n",
    "iniciotablas = int(input(\"Ingrese el inicio multiplicar: \"))\n",
    "finaltablas = int(input(\"Ingrese final amultipliacar: \"))\n",
    "\n",
    "for _ in range(final):\n",
    "    print(f\"Tabla de multiplicar de {inicio} x {iniciotablas} :\")\n",
    "    for i in range(inicio, final + 1):\n",
    "        resultado = inicio * iniciotablas\n",
    "        print(f\"{inicio}  x {i} = {resultado}\")\n",
    "        iniciotablas= iniciotablas+1\n",
    "\n"
   ]
  },
  {
   "cell_type": "code",
   "execution_count": 63,
   "id": "92a54b33",
   "metadata": {},
   "outputs": [],
   "source": [
    "#finciones con argumentos"
   ]
  },
  {
   "cell_type": "code",
   "execution_count": 64,
   "id": "a3f7c230",
   "metadata": {},
   "outputs": [
    {
     "name": "stdout",
     "output_type": "stream",
     "text": [
      "15\n"
     ]
    }
   ],
   "source": [
    "def suma(arg1,arg2):\n",
    "    suma = arg1+arg2\n",
    "    print(suma)\n",
    "    \n",
    "suma(5,10)"
   ]
  },
  {
   "cell_type": "code",
   "execution_count": null,
   "id": "5d3dceb2",
   "metadata": {},
   "outputs": [],
   "source": []
  },
  {
   "cell_type": "code",
   "execution_count": null,
   "id": "bd2439ca",
   "metadata": {},
   "outputs": [],
   "source": []
  },
  {
   "cell_type": "code",
   "execution_count": null,
   "id": "2de16966",
   "metadata": {},
   "outputs": [],
   "source": []
  },
  {
   "cell_type": "code",
   "execution_count": null,
   "id": "6a1a6c80",
   "metadata": {},
   "outputs": [],
   "source": []
  },
  {
   "cell_type": "code",
   "execution_count": null,
   "id": "55f6dd9b",
   "metadata": {},
   "outputs": [],
   "source": []
  },
  {
   "cell_type": "code",
   "execution_count": null,
   "id": "abc1d5dc",
   "metadata": {},
   "outputs": [],
   "source": []
  }
 ],
 "metadata": {
  "kernelspec": {
   "display_name": "Python 3 (ipykernel)",
   "language": "python",
   "name": "python3"
  },
  "language_info": {
   "codemirror_mode": {
    "name": "ipython",
    "version": 3
   },
   "file_extension": ".py",
   "mimetype": "text/x-python",
   "name": "python",
   "nbconvert_exporter": "python",
   "pygments_lexer": "ipython3",
   "version": "3.11.4"
  }
 },
 "nbformat": 4,
 "nbformat_minor": 5
}
