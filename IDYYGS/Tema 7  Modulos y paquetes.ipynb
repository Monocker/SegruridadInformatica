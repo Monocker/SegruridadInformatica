{
 "cells": [
  {
   "cell_type": "code",
   "execution_count": 1,
   "id": "5094feb3",
   "metadata": {},
   "outputs": [
    {
     "name": "stdout",
     "output_type": "stream",
     "text": [
      "Ingresa el valor de a: 5\n",
      "Ingresa el valor de b: 8\n",
      "Suma: 13.0\n",
      "Resta: -3.0\n",
      "Multiplicación: 40.0\n",
      "División: 0.625\n",
      "Raíz cuadrada: 2.23606797749979\n"
     ]
    }
   ],
   "source": [
    "from matematicas import Suma, Resta, Multipliacion, Potencia, Raiz, Division\n",
    "\n",
    "\n",
    "a = float(input(\"Ingresa el valor de a: \"))\n",
    "b = float(input(\"Ingresa el valor de b: \"))\n",
    "\n",
    "print(f\"Suma: {Suma.suma(a, b)}\")\n",
    "print(f\"Resta: {Resta.resta(a, b)}\")\n",
    "print(f\"Multiplicación: {Multipliacion.multiplicacion(a, b)}\")\n",
    "print(f\"División: {Division.division(a, b)}\")\n",
    "\n",
    "\n",
    "\n",
    "print(f\"Raíz cuadrada: {Raiz.raiz(a)}\")\n"
   ]
  },
  {
   "cell_type": "code",
   "execution_count": null,
   "id": "d0c098e4",
   "metadata": {},
   "outputs": [],
   "source": []
  },
  {
   "cell_type": "code",
   "execution_count": null,
   "id": "b4604787",
   "metadata": {},
   "outputs": [],
   "source": []
  },
  {
   "cell_type": "code",
   "execution_count": null,
   "id": "463c61f5",
   "metadata": {},
   "outputs": [],
   "source": []
  },
  {
   "cell_type": "code",
   "execution_count": null,
   "id": "3a9b23d2",
   "metadata": {},
   "outputs": [],
   "source": []
  }
 ],
 "metadata": {
  "kernelspec": {
   "display_name": "Python 3 (ipykernel)",
   "language": "python",
   "name": "python3"
  },
  "language_info": {
   "codemirror_mode": {
    "name": "ipython",
    "version": 3
   },
   "file_extension": ".py",
   "mimetype": "text/x-python",
   "name": "python",
   "nbconvert_exporter": "python",
   "pygments_lexer": "ipython3",
   "version": "3.11.4"
  }
 },
 "nbformat": 4,
 "nbformat_minor": 5
}
