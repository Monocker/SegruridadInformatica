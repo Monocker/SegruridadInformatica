{
 "cells": [
  {
   "cell_type": "code",
   "execution_count": 15,
   "id": "a5d66f25",
   "metadata": {},
   "outputs": [],
   "source": [
    "#Listas ordenadas y modificables\n",
    "\n",
    "frutas =[\"manzana\", \"banana\", \"uva\"]\n",
    "numeros = [1,2,3]\n",
    "mixto = [\"texto\", 123, True, 3.14]\n"
   ]
  },
  {
   "cell_type": "code",
   "execution_count": 16,
   "id": "96e7b763",
   "metadata": {},
   "outputs": [
    {
     "name": "stdout",
     "output_type": "stream",
     "text": [
      "True\n",
      "uva\n"
     ]
    }
   ],
   "source": [
    "#obtener datos y modificar\n",
    "\n",
    "print (mixto[2])\n",
    "frutas [0] = \"uva\"\n",
    "\n",
    "print(frutas[0])"
   ]
  },
  {
   "cell_type": "code",
   "execution_count": 17,
   "id": "1b8e1d03",
   "metadata": {},
   "outputs": [
    {
     "name": "stdout",
     "output_type": "stream",
     "text": [
      "rojo\n",
      "verde\n",
      "azul\n"
     ]
    }
   ],
   "source": [
    "#Tuplas inmutables\n",
    "\n",
    "colores =(\"rojo\", \"verde\", \"azul\", \"amarillo\")\n",
    "\n",
    "for color in colores:\n",
    "    print(color)"
   ]
  },
  {
   "cell_type": "code",
   "execution_count": null,
   "id": "be602470",
   "metadata": {},
   "outputs": [],
   "source": [
    "#conjuntos Sets colecciones no ordenadas que no se puede suplicar\n",
    "\n",
    "animales ={\"gato\", \"perro\"}\n",
    "\n",
    "#animales.add\n",
    "#animales.remove "
   ]
  },
  {
   "cell_type": "code",
   "execution_count": 22,
   "id": "00eddf49",
   "metadata": {},
   "outputs": [],
   "source": [
    "#Diccionario clave valor\n",
    "\n",
    "\n",
    "\n",
    "persona ={\n",
    "    \"nombre\": \"Dvid\",\n",
    "    \"apparterno\": \"portal\",\n",
    "    \"apmaterno\" : \"zavaleta\",\n",
    "    \"edad\" : 30,\n",
    "    \"estatura\" : 1.70,\n",
    "    \"peso\" : 70.90\n",
    "}\n",
    "\n",
    "\n",
    "\n",
    "\n"
   ]
  },
  {
   "cell_type": "code",
   "execution_count": 31,
   "id": "7db5d63c",
   "metadata": {},
   "outputs": [
    {
     "name": "stdout",
     "output_type": "stream",
     "text": [
      "24.532871972318343\n"
     ]
    }
   ],
   "source": [
    "#formula = peo/ altura^2\n",
    "\n",
    "def imc(peso,estatura):\n",
    "    return peso/estatura**2\n",
    "\n",
    "persona_imc = (imc(persona[\"peso\"], persona[\"estatura\"]))"
   ]
  },
  {
   "cell_type": "code",
   "execution_count": 38,
   "id": "fee092ec",
   "metadata": {},
   "outputs": [
    {
     "data": {
      "text/plain": [
       "'Tienes un peso normal'"
      ]
     },
     "execution_count": 38,
     "metadata": {},
     "output_type": "execute_result"
    }
   ],
   "source": [
    "\n",
    "\n",
    "def verifica_sobrepeso(peso, estatura):\n",
    "    mi_imc = imc(peso, estatura)\n",
    "    if mi_imc < 18.5:\n",
    "        return \"Tienes bajo peso\"\n",
    "    elif 18.5 <= mi_imc <25:\n",
    "        return \"Tienes un peso normal\"\n",
    "    elif 25 < mi_imc <30:\n",
    "        return \"Tienes sobrepeso\"\n",
    "    else:\n",
    "        return \"Tienes obecidad\"\n",
    "    \n",
    "verifica_sobrepeso(persona[\"peso\"], persona[\"estatura\"])\n",
    "\n"
   ]
  },
  {
   "cell_type": "code",
   "execution_count": null,
   "id": "85a227b7",
   "metadata": {},
   "outputs": [],
   "source": []
  },
  {
   "cell_type": "code",
   "execution_count": null,
   "id": "ba87cb52",
   "metadata": {},
   "outputs": [],
   "source": []
  }
 ],
 "metadata": {
  "kernelspec": {
   "display_name": "Python 3 (ipykernel)",
   "language": "python",
   "name": "python3"
  },
  "language_info": {
   "codemirror_mode": {
    "name": "ipython",
    "version": 3
   },
   "file_extension": ".py",
   "mimetype": "text/x-python",
   "name": "python",
   "nbconvert_exporter": "python",
   "pygments_lexer": "ipython3",
   "version": "3.11.4"
  }
 },
 "nbformat": 4,
 "nbformat_minor": 5
}
