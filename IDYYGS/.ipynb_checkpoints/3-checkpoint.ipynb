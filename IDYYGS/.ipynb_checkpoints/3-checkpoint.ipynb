{
 "cells": [
  {
   "cell_type": "markdown",
   "id": "26ec3919",
   "metadata": {},
   "source": [
    "# Estructuras de control(If, ELIF y ELSE)"
   ]
  },
  {
   "cell_type": "code",
   "execution_count": null,
   "id": "bbdaf41f",
   "metadata": {},
   "outputs": [],
   "source": [
    "#Identación == 4Espacios\n",
    "a= 10\n",
    "b=5\n",
    "if a>b:\n",
    "    print(\"Hola Mundo\")\n",
    "    \n",
    "else: \n",
    "    print(\"Cómo estás\")\n",
    "    "
   ]
  },
  {
   "cell_type": "code",
   "execution_count": null,
   "id": "4a9ab076",
   "metadata": {
    "collapsed": true
   },
   "outputs": [],
   "source": [
    "#For"
   ]
  },
  {
   "cell_type": "code",
   "execution_count": null,
   "id": "54e8734c",
   "metadata": {},
   "outputs": [],
   "source": [
    "#tipico\n",
    "\n",
    "for (inicio;final;avance)\n",
    "{\n",
    "    codigo\n",
    "}"
   ]
  },
  {
   "cell_type": "code",
   "execution_count": 2,
   "id": "056f9b22",
   "metadata": {},
   "outputs": [
    {
     "data": {
      "text/plain": [
       "1"
      ]
     },
     "execution_count": 2,
     "metadata": {},
     "output_type": "execute_result"
    }
   ],
   "source": [
    "numeros = [1,2,3,4,5,6,7,8,9,]\n",
    "\n",
    "num = iter(numeros)\n",
    "\n",
    "next(num)"
   ]
  },
  {
   "cell_type": "code",
   "execution_count": null,
   "id": "fcb0713d",
   "metadata": {},
   "outputs": [],
   "source": [
    "for k in valores #diccionarios:\n"
   ]
  },
  {
   "cell_type": "code",
   "execution_count": 25,
   "id": "2417fbe9",
   "metadata": {
    "scrolled": true
   },
   "outputs": [
    {
     "name": "stdout",
     "output_type": "stream",
     "text": [
      "Ingrese el inicio de la tabla: 3\n",
      "Ingrese el final de l atabla: 6\n",
      "Ingrese el inicio multiplicar: 2\n",
      "Ingrese final amultipliacar: 7\n",
      "Tabla de multiplicar de 3 x 2 :\n",
      "3  x 3 = 12\n",
      "3  x 4 = 15\n",
      "3  x 5 = 18\n",
      "3  x 6 = 21\n",
      "Tabla de multiplicar de 3 x 2 :\n",
      "3  x 3 = 12\n",
      "3  x 4 = 15\n",
      "3  x 5 = 18\n",
      "3  x 6 = 21\n",
      "3  x 7 = 24\n",
      "Tabla de multiplicar de 3 x 2 :\n",
      "3  x 3 = 12\n",
      "3  x 4 = 15\n",
      "3  x 5 = 18\n",
      "3  x 6 = 21\n",
      "3  x 7 = 24\n",
      "3  x 8 = 27\n",
      "Tabla de multiplicar de 3 x 2 :\n",
      "3  x 3 = 12\n",
      "3  x 4 = 15\n",
      "3  x 5 = 18\n",
      "3  x 6 = 21\n",
      "3  x 7 = 24\n",
      "3  x 8 = 27\n",
      "3  x 9 = 30\n",
      "Tabla de multiplicar de 3 x 2 :\n",
      "3  x 3 = 12\n",
      "3  x 4 = 15\n",
      "3  x 5 = 18\n",
      "3  x 6 = 21\n",
      "3  x 7 = 24\n",
      "3  x 8 = 27\n",
      "3  x 9 = 30\n",
      "3  x 10 = 33\n",
      "Tabla de multiplicar de 3 x 2 :\n",
      "3  x 3 = 12\n",
      "3  x 4 = 15\n",
      "3  x 5 = 18\n",
      "3  x 6 = 21\n",
      "3  x 7 = 24\n",
      "3  x 8 = 27\n",
      "3  x 9 = 30\n",
      "3  x 10 = 33\n",
      "3  x 11 = 36\n"
     ]
    }
   ],
   "source": [
    "#tabala infinita\n",
    "\n",
    "#el usuario va a difinir el multiclando y el multiplicador y el tamaño de la tabla\n",
    "\n",
    "inicio = int(input(\"Ingrese el inicio de la tabla: \"))\n",
    "final = int(input(\"Ingrese el final de l atabla: \"))\n",
    "iniciotablas = int(input(\"Ingrese el inicio multiplicar: \"))\n",
    "finaltablas = int(input(\"Ingrese final amultipliacar: \"))\n",
    "\n",
    "for _ in range(final):\n",
    "    print(f\"Tabla de multiplicar de {inicio} x {iniciotablas} :\")\n",
    "    for i in range(inicio, final + 1):\n",
    "        resultado = inicio * i + inicio\n",
    "        print(f\"{inicio}  x {i} = {resultado}\")\n",
    "    final = final +1\n",
    "    inicio = inicio +1\n",
    "    \n",
    "    \n",
    "\n"
   ]
  },
  {
   "cell_type": "code",
   "execution_count": null,
   "id": "e332de1c",
   "metadata": {},
   "outputs": [],
   "source": []
  },
  {
   "cell_type": "code",
   "execution_count": null,
   "id": "db64fb83",
   "metadata": {},
   "outputs": [],
   "source": []
  },
  {
   "cell_type": "code",
   "execution_count": null,
   "id": "a9c5e192",
   "metadata": {},
   "outputs": [],
   "source": []
  }
 ],
 "metadata": {
  "kernelspec": {
   "display_name": "Python 3 (ipykernel)",
   "language": "python",
   "name": "python3"
  },
  "language_info": {
   "codemirror_mode": {
    "name": "ipython",
    "version": 3
   },
   "file_extension": ".py",
   "mimetype": "text/x-python",
   "name": "python",
   "nbconvert_exporter": "python",
   "pygments_lexer": "ipython3",
   "version": "3.11.4"
  }
 },
 "nbformat": 4,
 "nbformat_minor": 5
}
