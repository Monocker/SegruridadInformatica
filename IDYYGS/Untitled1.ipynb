{
 "cells": [
  {
   "cell_type": "code",
   "execution_count": null,
   "id": "fe43d7ea",
   "metadata": {},
   "outputs": [],
   "source": [
    "#Crear un programa que me solicite todos los datos de la INE y que los almacene en un diccionario.\n",
    "\n",
    "#EPosteriormente se van a obtener los datos del diccionario y se va a guardar de manera estructurada en un archivo txt."
   ]
  },
  {
   "cell_type": "code",
   "execution_count": null,
   "id": "5ae1dd27",
   "metadata": {},
   "outputs": [],
   "source": []
  },
  {
   "cell_type": "code",
   "execution_count": 5,
   "id": "57f91df1",
   "metadata": {},
   "outputs": [
    {
     "name": "stdout",
     "output_type": "stream",
     "text": [
      "Ingresa tu nombres: Luis\n",
      "Ingresa tus apellidos: Villafaña\n",
      "Ingresa tu edad: 33\n",
      "Ingresa tu sexo: h\n",
      "Ingresa tu domicilio: cancun qroo\n",
      "Ingresa tu CURP: kasndksajn7867\n",
      "Ingresa tu CLAVE DE LECTOR: 76218123\n",
      "Ingresa tu Fecha de nacimiento: 250990\n",
      "Ingresa fecha de vigencia: 2025\n",
      "Ingrese tu seccion 7667\n",
      "Datos guardados en el archivo datos_INE.txt.\n"
     ]
    }
   ],
   "source": [
    "def solicitarINE():\n",
    "    datos = {}\n",
    "    datos['nombre'] = input(\"Ingresa tu nombres: \")\n",
    "    datos['apellido'] = input(\"Ingresa tus apellidos: \")\n",
    "    datos['edad'] = input(\"Ingresa tu edad: \")\n",
    "    datos['sexi'] = input(\"Ingresa tu sexo: \")\n",
    "    datos['domicilio'] = input(\"Ingresa tu domicilio: \")\n",
    "    datos['CURP'] = input(\"Ingresa tu CURP: \")\n",
    "    datos['CLAVE'] = input(\"Ingresa tu CLAVE DE LECTOR: \")\n",
    "    datos['CLAVE'] = input(\"Ingresa tu Fecha de nacimiento: \")\n",
    "    datos['Vigencia'] = input(\"Ingresa fecha de vigencia: \")\n",
    "    datos['Seccion'] = input(\"Ingrese tu seccion \")\n",
    "    return datos\n",
    "\n",
    "def guardarTxt(datos):\n",
    "    with open('datos_INE.txt', 'w') as file:\n",
    "        file.write(\"Datos de la INE:\\n\")\n",
    "        for key, value in datos.items():\n",
    "            file.write(f\"{key}: {value}\\n\")\n",
    "            \n",
    "datos = solicitarINE()\n",
    "guardarTxt(datos)\n",
    "print(\"Datos guardados en el archivo datos_INE.txt.\")\n"
   ]
  },
  {
   "cell_type": "code",
   "execution_count": 6,
   "id": "cb62a83a",
   "metadata": {},
   "outputs": [
    {
     "name": "stdout",
     "output_type": "stream",
     "text": [
      "Datos de la INE:\n",
      "nombre: Luis\n",
      "apellido: Villafaña\n",
      "edad: 33\n",
      "sexi: h\n",
      "domicilio: cancun qroo\n",
      "CURP: kasndksajn7867\n",
      "CLAVE: 250990\n",
      "Vigencia: 2025\n",
      "Seccion: 7667\n",
      "\n"
     ]
    }
   ],
   "source": [
    "archivo=open(\"datos_INE.txt\",\"r\")\n",
    "resultado = archivo.read()\n",
    "print(resultado)"
   ]
  },
  {
   "cell_type": "code",
   "execution_count": 13,
   "id": "cd96f748",
   "metadata": {},
   "outputs": [
    {
     "ename": "NameError",
     "evalue": "name 'Document' is not defined",
     "output_type": "error",
     "traceback": [
      "\u001b[1;31m---------------------------------------------------------------------------\u001b[0m",
      "\u001b[1;31mNameError\u001b[0m                                 Traceback (most recent call last)",
      "Cell \u001b[1;32mIn[13], line 3\u001b[0m\n\u001b[0;32m      1\u001b[0m \u001b[38;5;28;01mimport\u001b[39;00m \u001b[38;5;21;01mos\u001b[39;00m\n\u001b[0;32m      2\u001b[0m os\u001b[38;5;241m.\u001b[39mgetcwd()\n\u001b[1;32m----> 3\u001b[0m doc \u001b[38;5;241m=\u001b[39m Document(\u001b[38;5;124m'\u001b[39m\u001b[38;5;124mword.docx\u001b[39m\u001b[38;5;124m'\u001b[39m)\n\u001b[0;32m      5\u001b[0m \u001b[38;5;28;01mfor\u001b[39;00m word \u001b[38;5;129;01min\u001b[39;00m doc\u001b[38;5;241m.\u001b[39mparagraphs:\n\u001b[0;32m      6\u001b[0m     \u001b[38;5;28mprint\u001b[39m(word\u001b[38;5;241m.\u001b[39mtext)\n",
      "\u001b[1;31mNameError\u001b[0m: name 'Document' is not defined"
     ]
    }
   ],
   "source": []
  },
  {
   "cell_type": "code",
   "execution_count": null,
   "id": "679f9a20",
   "metadata": {},
   "outputs": [],
   "source": []
  },
  {
   "cell_type": "code",
   "execution_count": null,
   "id": "dfdf5579",
   "metadata": {},
   "outputs": [],
   "source": []
  }
 ],
 "metadata": {
  "kernelspec": {
   "display_name": "Python 3 (ipykernel)",
   "language": "python",
   "name": "python3"
  },
  "language_info": {
   "codemirror_mode": {
    "name": "ipython",
    "version": 3
   },
   "file_extension": ".py",
   "mimetype": "text/x-python",
   "name": "python",
   "nbconvert_exporter": "python",
   "pygments_lexer": "ipython3",
   "version": "3.11.4"
  }
 },
 "nbformat": 4,
 "nbformat_minor": 5
}
