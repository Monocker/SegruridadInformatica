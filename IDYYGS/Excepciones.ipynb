{
 "cells": [
  {
   "cell_type": "code",
   "execution_count": null,
   "id": "3d5fc01a",
   "metadata": {},
   "outputs": [],
   "source": [
    "#excepcione\n",
    "\n"
   ]
  },
  {
   "cell_type": "code",
   "execution_count": null,
   "id": "60aa5a6f",
   "metadata": {},
   "outputs": [],
   "source": [
    "#crear  una lista de arreglos con personjes. \n",
    "\n",
    "personajes = [\"Goku\", \"Vegeta\", \"Gohan\", \"Brolly\", \"Trunks\", \"Goten\"]\n"
   ]
  },
  {
   "cell_type": "code",
   "execution_count": null,
   "id": "13138700",
   "metadata": {},
   "outputs": [],
   "source": [
    "def obtener_perrsonaje(indice):\n",
    "    try: \n",
    "        return personajes[indice]\n",
    "    except IndexError:\n",
    "        return \"El indice del personaje no existe\"\n",
    "    except Exception as e:\n",
    "        return f\"Error desconocido: {e}\"\n",
    "    \n",
    "print (obtener_perrsonaje(1))"
   ]
  }
 ],
 "metadata": {
  "kernelspec": {
   "display_name": "Python 3 (ipykernel)",
   "language": "python",
   "name": "python3"
  },
  "language_info": {
   "codemirror_mode": {
    "name": "ipython",
    "version": 3
   },
   "file_extension": ".py",
   "mimetype": "text/x-python",
   "name": "python",
   "nbconvert_exporter": "python",
   "pygments_lexer": "ipython3",
   "version": "3.11.4"
  }
 },
 "nbformat": 4,
 "nbformat_minor": 5
}
